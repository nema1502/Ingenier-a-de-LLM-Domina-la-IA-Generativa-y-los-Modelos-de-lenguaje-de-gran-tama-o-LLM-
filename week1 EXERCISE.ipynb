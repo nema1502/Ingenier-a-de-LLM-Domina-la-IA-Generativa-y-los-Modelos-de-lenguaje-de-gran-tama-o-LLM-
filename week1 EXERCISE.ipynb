{
 "cells": [
  {
   "cell_type": "markdown",
   "id": "fe12c203-e6a6-452c-a655-afb8a03a4ff5",
   "metadata": {},
   "source": [
    "# Ejercicio final de la semana 1\n",
    "\n",
    "Para demostrar que estás familiarizado con la API de OpenAI y también con Ollama, crea una herramienta que responda a una pregunta técnica\n",
    "y la explique. ¡Esta es una herramienta que podrás usar durante el curso!"
   ]
  },
  {
   "cell_type": "code",
   "execution_count": 15,
   "id": "c1070317-3ed9-4659-abe3-828943230e03",
   "metadata": {},
   "outputs": [],
   "source": [
    "import ollama\n",
    "import sys\n",
    "from typing import Generator\n"
   ]
  },
  {
   "cell_type": "code",
   "execution_count": 16,
   "id": "4a456906-915a-4bfd-bb9d-57e505c5093f",
   "metadata": {},
   "outputs": [],
   "source": [
    "# constantes\n",
    "\n",
    "MODEL_LLAMA = 'llama3:latest'"
   ]
  },
  {
   "cell_type": "code",
   "execution_count": 17,
   "id": "a8d7923c-5f28-4c30-8556-342d7c8497c1",
   "metadata": {},
   "outputs": [],
   "source": [
    "# Configura el entorno"
   ]
  },
  {
   "cell_type": "code",
   "execution_count": null,
   "id": "7336d3f4-0abb-44fa-8b92-461f4754f84b",
   "metadata": {},
   "outputs": [
    {
     "name": "stdout",
     "output_type": "stream",
     "text": [
      "🦙 Llama3 Code Explainer (Streaming)\n",
      "\n",
      "Código a analizar: yield from {book.get(\"author\") for book in books if book.get(\"author\")} \n",
      "\n",
      "¡Claro! Me alegra explicarte el código.\n",
      "\n",
      "**1. ¿Qué hace el código?**\n",
      "\n",
      "Este código es una parte de una función que utiliza la sentencia `yield from` para iterar sobre un conjunto de libros (`books`) y obtener los autores de cada libro.\n",
      "\n",
      "La función probablemente se utiliza en un contexto de procesamiento de datos, como por ejemplo, en un script que analiza una lista de libros y extrae información relevante. En este caso, la función está diseñada para obtener la lista de autores de los libros y devolverla como resultado.\n",
      "\n",
      "**2. ¿Por qué funciona o posibles errores?**\n",
      "\n",
      "La sentencia `yield from` es una forma nueva de escribir iteradores en Python (introducida en Python 3.x). Esta sentencia permite que una función genere valores y permitir a la función llamada (`__iter__`) determinar cómo iterar sobre ellos.\n",
      "\n",
      "En este caso, el código utiliza una comprensión de conjunto para obtener los autores de cada libro. La condición `if book.get(\"author\")` garantiza que solo se incluyan libros con autor en el resultado.\n",
      "\n",
      "**3. Casos de uso**\n",
      "\n",
      "Este código puede ser útil en muchos casos, como:\n",
      "\n",
      "* En un sistema de biblioteca digital, donde se necesita obtener la lista de autores de los libros prestados o disponibles para préstamo.\n",
      "* En una aplicación que requiere la lista de autores de un conjunto de libros para generar un informe o estadística sobre la producción literaria de un autor en particular.\n",
      "* En un script que analiza una colección de datos y necesita obtener la lista de autores de los libros relacionados con una cierta temática o género.\n",
      "\n",
      "**4. Mejoras opcionales**\n",
      "\n",
      "Para mejorar el rendimiento y la legibilidad del código, podrías considerar las siguientes sugerencias:\n",
      "\n",
      "* Utilizar un nombre más descriptivo para la función, como `obtener_autores` o `get_authors`.\n",
      "* Agregar una revisión básica de los datos, como por ejemplo, verificar si el libro tiene un autor antes de intentar obtener su nombre.\n",
      "* Considerar utilizar una estructura de datos más eficiente que"
     ]
    }
   ],
   "source": [
    "import ollama\n",
    "import sys\n",
    "from typing import Generator\n",
    "\n",
    "# Configuración del modelo\n",
    "MODEL_SETTINGS = {\n",
    "    \"model\": \"llama3:latest\",\n",
    "    \"options\": {\n",
    "        \"temperature\": 0.7,\n",
    "        \"num_predict\": 1024,\n",
    "        \"top_p\": 0.9,\n",
    "        \"seed\": 42\n",
    "    }\n",
    "}\n",
    "\n",
    "def explain_code(question: str) -> Generator[str, None, None]:\n",
    "    \"\"\"\n",
    "    Explica código Python usando Llama 3 con streaming\n",
    "    \n",
    "    Args:\n",
    "        question (str): Código/pregunta a explicar\n",
    "        \n",
    "    Yields:\n",
    "        str: Fragmentos de la respuesta en tiempo real\n",
    "    \"\"\"\n",
    "    prompt = f\"\"\"\n",
    "    Como experto en Python, explica detalladamente:\n",
    "    1. Qué hace el código\n",
    "    2. Por qué funciona o posibles errores\n",
    "    3. Casos de uso\n",
    "    4. Mejoras opcionales\n",
    "    5. Responde en español\n",
    "\n",
    "    Código: {question}\n",
    "    \"\"\"\n",
    "    \n",
    "    try:\n",
    "        stream = ollama.generate(\n",
    "            model=MODEL_SETTINGS[\"model\"],\n",
    "            prompt=prompt,\n",
    "            stream=True,\n",
    "            options=MODEL_SETTINGS[\"options\"]\n",
    "        )\n",
    "        \n",
    "        for chunk in stream:\n",
    "            yield chunk[\"response\"]\n",
    "            \n",
    "    except Exception as e:\n",
    "        yield f\"\\n⚠️ Error: {str(e)}\"\n",
    "        yield \"\\n¿Tienes Ollama corriendo? Ejecuta 'ollama serve' en otra terminal\"\n",
    "\n",
    "if __name__ == \"__main__\":\n",
    "    question = \"\"\"\n",
    "    Explica qué hace este código y por qué:\n",
    "    yield from {book.get(\"author\") for book in books if book.get(\"author\")}\n",
    "    \"\"\"\n",
    "    \n",
    "    print(\"🦙 Llama3 Code Explainer (Streaming)\\n\")\n",
    "    print(\"Código a analizar:\", question.split('\\n')[2].strip(), \"\\n\")\n",
    "    \n",
    "    try:\n",
    "        for chunk in explain_code(question):\n",
    "            sys.stdout.write(chunk)\n",
    "            sys.stdout.flush()\n",
    "    except KeyboardInterrupt:\n",
    "        print(\"\\n\\n🔴 Explicación interrumpida por el usuario\")"
   ]
  },
  {
   "cell_type": "code",
   "execution_count": null,
   "id": "3ebd1d80-c5f9-4444-aeaa-4b1175ce07f3",
   "metadata": {},
   "outputs": [],
   "source": []
  }
 ],
 "metadata": {
  "kernelspec": {
   "display_name": "Python 3 (ipykernel)",
   "language": "python",
   "name": "python3"
  },
  "language_info": {
   "codemirror_mode": {
    "name": "ipython",
    "version": 3
   },
   "file_extension": ".py",
   "mimetype": "text/x-python",
   "name": "python",
   "nbconvert_exporter": "python",
   "pygments_lexer": "ipython3",
   "version": "3.8.20"
  }
 },
 "nbformat": 4,
 "nbformat_minor": 5
}
